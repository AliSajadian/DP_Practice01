{
  "nbformat": 4,
  "nbformat_minor": 0,
  "metadata": {
    "colab": {
      "provenance": [],
      "gpuType": "T4",
      "authorship_tag": "ABX9TyNMfiWEPfZ9T/irVJU9q/Bz",
      "include_colab_link": true
    },
    "kernelspec": {
      "name": "python3",
      "display_name": "Python 3"
    },
    "language_info": {
      "name": "python"
    },
    "accelerator": "GPU"
  },
  "cells": [
    {
      "cell_type": "markdown",
      "metadata": {
        "id": "view-in-github",
        "colab_type": "text"
      },
      "source": [
        "<a href=\"https://colab.research.google.com/github/AliSajadian/DP_Practice01/blob/master/Untitled9.ipynb\" target=\"_parent\"><img src=\"https://colab.research.google.com/assets/colab-badge.svg\" alt=\"Open In Colab\"/></a>"
      ]
    },
    {
      "cell_type": "code",
      "execution_count": 2,
      "metadata": {
        "id": "Yn8oLPO_BtWp"
      },
      "outputs": [],
      "source": [
        "import tensorflow as tf\n",
        "from tensorflow import keras\n",
        "from keras.datasets import fashion_mnist"
      ]
    },
    {
      "cell_type": "code",
      "source": [
        "(x_train, y_train), (x_test, y_test) = fashion_mnist.load_data()"
      ],
      "metadata": {
        "id": "FMWJc3oHCk8s"
      },
      "execution_count": 3,
      "outputs": []
    },
    {
      "cell_type": "code",
      "source": [
        "x_train.shape, x_test.shape"
      ],
      "metadata": {
        "colab": {
          "base_uri": "https://localhost:8080/"
        },
        "id": "yjtYoJNlDjyk",
        "outputId": "d3882309-1082-4382-f99c-5f41cc5ea1ab"
      },
      "execution_count": 4,
      "outputs": [
        {
          "output_type": "execute_result",
          "data": {
            "text/plain": [
              "((60000, 28, 28), (10000, 28, 28))"
            ]
          },
          "metadata": {},
          "execution_count": 4
        }
      ]
    },
    {
      "cell_type": "code",
      "source": [
        "import matplotlib.pyplot as plt\n",
        "i = 50\n",
        "print(y_test[i])\n",
        "plt.gray()\n",
        "plt.imshow(x_train[i])"
      ],
      "metadata": {
        "colab": {
          "base_uri": "https://localhost:8080/",
          "height": 465
        },
        "id": "mWMw8xMGDzMK",
        "outputId": "4fcaaf75-6f82-460f-fd59-773b58e2b56c"
      },
      "execution_count": 5,
      "outputs": [
        {
          "output_type": "stream",
          "name": "stdout",
          "text": [
            "4\n"
          ]
        },
        {
          "output_type": "execute_result",
          "data": {
            "text/plain": [
              "<matplotlib.image.AxesImage at 0x78c230640b80>"
            ]
          },
          "metadata": {},
          "execution_count": 5
        },
        {
          "output_type": "display_data",
          "data": {
            "text/plain": [
              "<Figure size 640x480 with 1 Axes>"
            ],
            "image/png": "[encoded data removed]"
          },
          "metadata": {}
        }
      ]
    },
    {
      "cell_type": "markdown",
      "source": [
        "## Preprocess"
      ],
      "metadata": {
        "id": "S-tjaEVaFzXA"
      }
    },
    {
      "cell_type": "code",
      "source": [
        "import numpy as np\n",
        "np.min(x_train), np.max(x_train)"
      ],
      "metadata": {
        "colab": {
          "base_uri": "https://localhost:8080/"
        },
        "id": "A36CypVaFyrm",
        "outputId": "ee46f4b1-a73b-4c6d-85d1-fb3c03a0de88"
      },
      "execution_count": 6,
      "outputs": [
        {
          "output_type": "execute_result",
          "data": {
            "text/plain": [
              "(0, 255)"
            ]
          },
          "metadata": {},
          "execution_count": 6
        }
      ]
    },
    {
      "cell_type": "code",
      "source": [
        "x_train = x_train / 255.0\n",
        "x_test = x_test / 255.0"
      ],
      "metadata": {
        "id": "Oh3wpip2FhsH"
      },
      "execution_count": 7,
      "outputs": []
    },
    {
      "cell_type": "code",
      "source": [
        "np.min(x_train), np.max(x_train)"
      ],
      "metadata": {
        "colab": {
          "base_uri": "https://localhost:8080/"
        },
        "id": "BX927ttmHsO3",
        "outputId": "f3f2aa75-c972-4afa-d795-2bf08259966c"
      },
      "execution_count": 8,
      "outputs": [
        {
          "output_type": "execute_result",
          "data": {
            "text/plain": [
              "(0.0, 1.0)"
            ]
          },
          "metadata": {},
          "execution_count": 8
        }
      ]
    },
    {
      "cell_type": "markdown",
      "source": [
        "### FC(full connected) general deep learning model"
      ],
      "metadata": {
        "id": "akdb4A8IIakm"
      }
    },
    {
      "cell_type": "code",
      "source": [
        "model = keras.Sequential()\n",
        "model.add(keras.layers.Input(shape=(28,28)))\n",
        "model.add(keras.layers.Flatten())\n",
        "model.add(keras.layers.Dense(units=256, activation='relu'))\n",
        "model.add(keras.layers.Dense(units=256, activation='relu'))\n",
        "model.add(keras.layers.Dense(units=256, activation='relu'))\n",
        "model.add(keras.layers.Dense(units=10, activation='softmax'))"
      ],
      "metadata": {
        "id": "srQ-RBc1IA7u"
      },
      "execution_count": 17,
      "outputs": []
    },
    {
      "cell_type": "code",
      "source": [
        "model.compile(optimizer=tf.optimizers.Adam(), loss=tf.losses.sparse_categorical_crossentropy, metrics=['accuracy'])"
      ],
      "metadata": {
        "id": "c7pb42tPLXbE"
      },
      "execution_count": 18,
      "outputs": []
    },
    {
      "cell_type": "code",
      "source": [
        "model.summary()"
      ],
      "metadata": {
        "colab": {
          "base_uri": "https://localhost:8080/"
        },
        "id": "ypekuILHMWXS",
        "outputId": "9ca7d627-5eba-4166-ac47-0fdf2a86b21d"
      },
      "execution_count": 19,
      "outputs": [
        {
          "output_type": "stream",
          "name": "stdout",
          "text": [
            "Model: \"sequential_2\"\n",
            "_________________________________________________________________\n",
            " Layer (type)                Output Shape              Param #   \n",
            "=================================================================\n",
            " flatten_2 (Flatten)         (None, 784)               0         \n",
            "                                                                 \n",
            " dense_6 (Dense)             (None, 256)               200960    \n",
            "                                                                 \n",
            " dense_7 (Dense)             (None, 256)               65792     \n",
            "                                                                 \n",
            " dense_8 (Dense)             (None, 256)               65792     \n",
            "                                                                 \n",
            " dense_9 (Dense)             (None, 10)                2570      \n",
            "                                                                 \n",
            "=================================================================\n",
            "Total params: 335114 (1.28 MB)\n",
            "Trainable params: 335114 (1.28 MB)\n",
            "Non-trainable params: 0 (0.00 Byte)\n",
            "_________________________________________________________________\n"
          ]
        }
      ]
    },
    {
      "cell_type": "code",
      "source": [
        "hist = model.fit(x_train, y_train, batch_size=512, epochs=10, validation_data=(x_test, y_test))"
      ],
      "metadata": {
        "colab": {
          "base_uri": "https://localhost:8080/"
        },
        "id": "7CAtrF-KMhNZ",
        "outputId": "ee7c4401-1bbf-463c-b010-18397c782007"
      },
      "execution_count": 20,
      "outputs": [
        {
          "output_type": "stream",
          "name": "stdout",
          "text": [
            "Epoch 1/10\n",
            "118/118 [==============================] - 4s 25ms/step - loss: 0.6198 - accuracy: 0.7836 - val_loss: 0.4605 - val_accuracy: 0.8347\n",
            "Epoch 2/10\n",
            "118/118 [==============================] - 3s 23ms/step - loss: 0.4033 - accuracy: 0.8556 - val_loss: 0.4072 - val_accuracy: 0.8525\n",
            "Epoch 3/10\n",
            "118/118 [==============================] - 3s 23ms/step - loss: 0.3503 - accuracy: 0.8730 - val_loss: 0.3899 - val_accuracy: 0.8608\n",
            "Epoch 4/10\n",
            "118/118 [==============================] - 4s 32ms/step - loss: 0.3236 - accuracy: 0.8806 - val_loss: 0.3557 - val_accuracy: 0.8735\n",
            "Epoch 5/10\n",
            "118/118 [==============================] - 3s 22ms/step - loss: 0.3029 - accuracy: 0.8886 - val_loss: 0.3661 - val_accuracy: 0.8687\n",
            "Epoch 6/10\n",
            "118/118 [==============================] - 3s 21ms/step - loss: 0.2879 - accuracy: 0.8937 - val_loss: 0.3527 - val_accuracy: 0.8731\n",
            "Epoch 7/10\n",
            "118/118 [==============================] - 3s 22ms/step - loss: 0.2702 - accuracy: 0.8992 - val_loss: 0.3654 - val_accuracy: 0.8688\n",
            "Epoch 8/10\n",
            "118/118 [==============================] - 3s 23ms/step - loss: 0.2615 - accuracy: 0.9027 - val_loss: 0.3436 - val_accuracy: 0.8721\n",
            "Epoch 9/10\n",
            "118/118 [==============================] - 4s 32ms/step - loss: 0.2469 - accuracy: 0.9075 - val_loss: 0.3272 - val_accuracy: 0.8834\n",
            "Epoch 10/10\n",
            "118/118 [==============================] - 3s 22ms/step - loss: 0.2365 - accuracy: 0.9118 - val_loss: 0.3283 - val_accuracy: 0.8829\n"
          ]
        }
      ]
    },
    {
      "cell_type": "markdown",
      "source": [
        "### CNN model"
      ],
      "metadata": {
        "id": "sEMEFGKCPJbr"
      }
    },
    {
      "cell_type": "code",
      "source": [
        "# config = tf.ConfigProto(device_count{\"CPU\": <NB CPU>})\n",
        "# keras.backend.tensorflow_backend.set_session(tf.Session(config=config))"
      ],
      "metadata": {
        "id": "aXmcksYndZ9b"
      },
      "execution_count": null,
      "outputs": []
    },
    {
      "cell_type": "code",
      "source": [
        "cnn = keras.Sequential()\n",
        "cnn.add(keras.layers.Input(shape=(28,28,1)))\n",
        "\n",
        "cnn.add(keras.layers.Conv2D(128, (5,5), strides=(1,1), padding='valid'))\n",
        "cnn.add(keras.layers.BatchNormalization())\n",
        "cnn.add(keras.layers.Activation('relu'))\n",
        "cnn.add(keras.layers.MaxPool2D(pool_size=(2,2)))\n",
        "\n",
        "cnn.add(keras.layers.Conv2D(128, (3,3), strides=(1,1), padding='valid'))\n",
        "cnn.add(keras.layers.BatchNormalization())\n",
        "cnn.add(keras.layers.Activation('relu'))\n",
        "cnn.add(keras.layers.AveragePooling2D(pool_size=(2,2)))\n",
        "\n",
        "cnn.add(keras.layers.Conv2D(128, (3,3), strides=(1,1), padding='valid'))\n",
        "cnn.add(keras.layers.BatchNormalization())\n",
        "cnn.add(keras.layers.Activation('relu'))\n",
        "cnn.add(keras.layers.MaxPool2D(pool_size=(2,2)))\n",
        "\n",
        "cnn.add(keras.layers.Flatten())\n",
        "\n",
        "cnn.add(keras.layers.Dense(units=256, activation='relu'))\n",
        "cnn.add(keras.layers.Dropout(0.5))\n",
        "cnn.add(keras.layers.Dense(units=256, activation='relu'))\n",
        "cnn.add(keras.layers.Dropout(0.5))\n",
        "\n",
        "cnn.add(keras.layers.Dense(units=10, activation='softmax'))"
      ],
      "metadata": {
        "id": "i4DiVuVCMiRA"
      },
      "execution_count": 13,
      "outputs": []
    },
    {
      "cell_type": "code",
      "source": [
        "cnn.compile(optimizer=tf.optimizers.Adam(), loss=tf.losses.sparse_categorical_crossentropy, metrics=['accuracy'])"
      ],
      "metadata": {
        "id": "MnkpRZmLTayA"
      },
      "execution_count": 10,
      "outputs": []
    },
    {
      "cell_type": "code",
      "source": [
        "cnn.summary()"
      ],
      "metadata": {
        "colab": {
          "base_uri": "https://localhost:8080/"
        },
        "id": "jGqZ4NRtUQ-3",
        "outputId": "8915bfbe-5152-4ee1-c2b8-53283daad93d"
      },
      "execution_count": 11,
      "outputs": [
        {
          "output_type": "stream",
          "name": "stdout",
          "text": [
            "Model: \"sequential\"\n",
            "_________________________________________________________________\n",
            " Layer (type)                Output Shape              Param #   \n",
            "=================================================================\n",
            " conv2d (Conv2D)             (None, 24, 24, 128)       3328      \n",
            "                                                                 \n",
            " batch_normalization (Batch  (None, 24, 24, 128)       512       \n",
            " Normalization)                                                  \n",
            "                                                                 \n",
            " activation (Activation)     (None, 24, 24, 128)       0         \n",
            "                                                                 \n",
            " max_pooling2d (MaxPooling2  (None, 12, 12, 128)       0         \n",
            " D)                                                              \n",
            "                                                                 \n",
            " conv2d_1 (Conv2D)           (None, 10, 10, 128)       147584    \n",
            "                                                                 \n",
            " batch_normalization_1 (Bat  (None, 10, 10, 128)       512       \n",
            " chNormalization)                                                \n",
            "                                                                 \n",
            " activation_1 (Activation)   (None, 10, 10, 128)       0         \n",
            "                                                                 \n",
            " average_pooling2d (Average  (None, 5, 5, 128)         0         \n",
            " Pooling2D)                                                      \n",
            "                                                                 \n",
            " conv2d_2 (Conv2D)           (None, 3, 3, 128)         147584    \n",
            "                                                                 \n",
            " batch_normalization_2 (Bat  (None, 3, 3, 128)         512       \n",
            " chNormalization)                                                \n",
            "                                                                 \n",
            " activation_2 (Activation)   (None, 3, 3, 128)         0         \n",
            "                                                                 \n",
            " max_pooling2d_1 (MaxPoolin  (None, 1, 1, 128)         0         \n",
            " g2D)                                                            \n",
            "                                                                 \n",
            " flatten (Flatten)           (None, 128)               0         \n",
            "                                                                 \n",
            " dense (Dense)               (None, 256)               33024     \n",
            "                                                                 \n",
            " dropout (Dropout)           (None, 256)               0         \n",
            "                                                                 \n",
            " dense_1 (Dense)             (None, 256)               65792     \n",
            "                                                                 \n",
            " dropout_1 (Dropout)         (None, 256)               0         \n",
            "                                                                 \n",
            " dense_2 (Dense)             (None, 10)                2570      \n",
            "                                                                 \n",
            "=================================================================\n",
            "Total params: 401418 (1.53 MB)\n",
            "Trainable params: 400650 (1.53 MB)\n",
            "Non-trainable params: 768 (3.00 KB)\n",
            "_________________________________________________________________\n"
          ]
        }
      ]
    },
    {
      "cell_type": "code",
      "source": [
        "hist1 = cnn.fit(x_train, y_train, batch_size=512, epochs=10, validation_data=(x_test, y_test))"
      ],
      "metadata": {
        "colab": {
          "base_uri": "https://localhost:8080/"
        },
        "id": "PuBigFGJUmtj",
        "outputId": "27ee2f8f-5a04-40c0-cdfb-ec501f7cfb7a"
      },
      "execution_count": 12,
      "outputs": [
        {
          "output_type": "stream",
          "name": "stdout",
          "text": [
            "Epoch 1/10\n",
            "118/118 [==============================] - 312s 3s/step - loss: 0.7348 - accuracy: 0.7391 - val_loss: 2.4883 - val_accuracy: 0.2005\n",
            "Epoch 2/10\n",
            "118/118 [==============================] - 302s 3s/step - loss: 0.4300 - accuracy: 0.8478 - val_loss: 2.4781 - val_accuracy: 0.2735\n",
            "Epoch 3/10\n",
            "118/118 [==============================] - 308s 3s/step - loss: 0.3634 - accuracy: 0.8712 - val_loss: 1.6549 - val_accuracy: 0.5039\n",
            "Epoch 4/10\n",
            "118/118 [==============================] - 304s 3s/step - loss: 0.3261 - accuracy: 0.8841 - val_loss: 0.8163 - val_accuracy: 0.7010\n",
            "Epoch 5/10\n",
            "118/118 [==============================] - 302s 3s/step - loss: 0.2993 - accuracy: 0.8939 - val_loss: 0.3684 - val_accuracy: 0.8658\n",
            "Epoch 6/10\n",
            "118/118 [==============================] - 304s 3s/step - loss: 0.2782 - accuracy: 0.8999 - val_loss: 0.3491 - val_accuracy: 0.8778\n",
            "Epoch 7/10\n",
            "118/118 [==============================] - 303s 3s/step - loss: 0.2592 - accuracy: 0.9086 - val_loss: 0.3075 - val_accuracy: 0.8888\n",
            "Epoch 8/10\n",
            "118/118 [==============================] - 303s 3s/step - loss: 0.2477 - accuracy: 0.9115 - val_loss: 0.3013 - val_accuracy: 0.8920\n",
            "Epoch 9/10\n",
            "118/118 [==============================] - 304s 3s/step - loss: 0.2305 - accuracy: 0.9175 - val_loss: 0.3085 - val_accuracy: 0.8881\n",
            "Epoch 10/10\n",
            "118/118 [==============================] - 305s 3s/step - loss: 0.2237 - accuracy: 0.9193 - val_loss: 0.3130 - val_accuracy: 0.8836\n"
          ]
        }
      ]
    },
    {
      "cell_type": "markdown",
      "source": [
        "### Evaluation"
      ],
      "metadata": {
        "id": "N6gQ9OrPs3mT"
      }
    },
    {
      "cell_type": "code",
      "source": [
        "plt.plot(hist.history['accuracy'], color='red')\n",
        "plt.plot(hist1.history['accuracy'], color='blue')"
      ],
      "metadata": {
        "colab": {
          "base_uri": "https://localhost:8080/",
          "height": 447
        },
        "id": "U8q84fg-Vqzz",
        "outputId": "35f1fd4a-885d-48e5-ebcc-a8031610bb1d"
      },
      "execution_count": 21,
      "outputs": [
        {
          "output_type": "execute_result",
          "data": {
            "text/plain": [
              "[<matplotlib.lines.Line2D at 0x78c22d8980d0>]"
            ]
          },
          "metadata": {},
          "execution_count": 21
        },
        {
          "output_type": "display_data",
          "data": {
            "text/plain": [
              "<Figure size 640x480 with 1 Axes>"
            ],
            "image/png": "[encoded data removed]"
          },
          "metadata": {}
        }
      ]
    },
    {
      "cell_type": "code",
      "source": [
        "plt.plot(hist.history['val_accuracy'], color='red')\n",
        "plt.plot(hist1.history['val_accuracy'], color='blue')"
      ],
      "metadata": {
        "colab": {
          "base_uri": "https://localhost:8080/",
          "height": 447
        },
        "id": "hziPyIPFr79q",
        "outputId": "b3481426-180b-48bc-9b20-5e0a686110e4"
      },
      "execution_count": 22,
      "outputs": [
        {
          "output_type": "execute_result",
          "data": {
            "text/plain": [
              "[<matplotlib.lines.Line2D at 0x78c22d8dbee0>]"
            ]
          },
          "metadata": {},
          "execution_count": 22
        },
        {
          "output_type": "display_data",
          "data": {
            "text/plain": [
              "<Figure size 640x480 with 1 Axes>"
            ],
            "image/png": "[encoded data removed]"
          },
          "metadata": {}
        }
      ]
    },
    {
      "cell_type": "code",
      "source": [
        "plt.plot(hist1.history['accuracy'], color='red')\n",
        "plt.plot(hist1.history['val_accuracy'], color='blue')"
      ],
      "metadata": {
        "colab": {
          "base_uri": "https://localhost:8080/",
          "height": 447
        },
        "id": "efXg_hO_seN7",
        "outputId": "abb1f61e-77ea-4303-d297-ee21480a1e69"
      },
      "execution_count": 23,
      "outputs": [
        {
          "output_type": "execute_result",
          "data": {
            "text/plain": [
              "[<matplotlib.lines.Line2D at 0x78c2021b35e0>]"
            ]
          },
          "metadata": {},
          "execution_count": 23
        },
        {
          "output_type": "display_data",
          "data": {
            "text/plain": [
              "<Figure size 640x480 with 1 Axes>"
            ],
            "image/png": "[encoded data removed]"
          },
          "metadata": {}
        }
      ]
    },
    {
      "cell_type": "code",
      "source": [
        "plt.plot(hist.history['loss'], color='red')\n",
        "plt.plot(hist1.history['loss'], color='blue')"
      ],
      "metadata": {
        "colab": {
          "base_uri": "https://localhost:8080/",
          "height": 447
        },
        "id": "AEqaOZd5tCCA",
        "outputId": "2a545d02-5286-4f29-a425-64f86397080e"
      },
      "execution_count": 24,
      "outputs": [
        {
          "output_type": "execute_result",
          "data": {
            "text/plain": [
              "[<matplotlib.lines.Line2D at 0x78c2020370a0>]"
            ]
          },
          "metadata": {},
          "execution_count": 24
        },
        {
          "output_type": "display_data",
          "data": {
            "text/plain": [
              "<Figure size 640x480 with 1 Axes>"
            ],
            "image/png": "[encoded data removed]"
          },
          "metadata": {}
        }
      ]
    }
  ]
}