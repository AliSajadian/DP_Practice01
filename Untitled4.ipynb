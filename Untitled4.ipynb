{
  "nbformat": 4,
  "nbformat_minor": 0,
  "metadata": {
    "colab": {
      "provenance": [],
      "gpuType": "T4",
      "authorship_tag": "ABX9TyMB5gSsuOD9gvfU4Xu/aWGO",
      "include_colab_link": true
    },
    "kernelspec": {
      "name": "python3",
      "display_name": "Python 3"
    },
    "language_info": {
      "name": "python"
    },
    "accelerator": "GPU"
  },
  "cells": [
    {
      "cell_type": "markdown",
      "metadata": {
        "id": "view-in-github",
        "colab_type": "text"
      },
      "source": [
        "<a href=\"https://colab.research.google.com/github/AliSajadian/DP_Practice01/blob/master/Untitled4.ipynb\" target=\"_parent\"><img src=\"https://colab.research.google.com/assets/colab-badge.svg\" alt=\"Open In Colab\"/></a>"
      ]
    },
    {
      "cell_type": "markdown",
      "source": [
        "## Dataset Creation"
      ],
      "metadata": {
        "id": "5uEUVwX6wpwn"
      }
    },
    {
      "cell_type": "code",
      "source": [
        "from sklearn.datasets import make_classification"
      ],
      "metadata": {
        "id": "K4RdR2ORw2bV"
      },
      "execution_count": 10,
      "outputs": []
    },
    {
      "cell_type": "code",
      "source": [
        "x, y = make_classification(n_samples=1000, n_features=10, n_informative=8, n_redundant=2, random_state=0, n_classes=2)"
      ],
      "metadata": {
        "id": "ozj-NqaVtZC8"
      },
      "execution_count": 11,
      "outputs": []
    },
    {
      "cell_type": "code",
      "source": [
        "x[60]"
      ],
      "metadata": {
        "colab": {
          "base_uri": "https://localhost:8080/"
        },
        "id": "nMOuB8XPtpEl",
        "outputId": "41d8f65a-e061-4634-d307-9e977e98c782"
      },
      "execution_count": 12,
      "outputs": [
        {
          "output_type": "execute_result",
          "data": {
            "text/plain": [
              "array([ 0.55004084,  1.40940304, -2.74862205, -4.80233427,  5.0953792 ,\n",
              "        2.02387354,  1.03232545, -0.91652994, -3.360814  , -1.73222718])"
            ]
          },
          "metadata": {},
          "execution_count": 12
        }
      ]
    },
    {
      "cell_type": "code",
      "source": [
        "y[60]"
      ],
      "metadata": {
        "colab": {
          "base_uri": "https://localhost:8080/"
        },
        "id": "B2dAeh0uwSqP",
        "outputId": "1f03d02b-b449-472b-99f6-7f61fa1aa48c"
      },
      "execution_count": 13,
      "outputs": [
        {
          "output_type": "execute_result",
          "data": {
            "text/plain": [
              "0"
            ]
          },
          "metadata": {},
          "execution_count": 13
        }
      ]
    },
    {
      "cell_type": "markdown",
      "source": [
        "## Model Definition"
      ],
      "metadata": {
        "id": "swtbo1GTxEKF"
      }
    },
    {
      "cell_type": "code",
      "source": [
        "import tensorflow as tf\n",
        "from tensorflow import keras\n",
        "\n",
        "def create_sequential_nn():\n",
        "  model = keras.Sequential()\n",
        "  model.add(keras.layers.Dense(units=64, activation='relu'))\n",
        "  model.add(keras.layers.Dense(units=1, activation='sigmoid'))\n",
        "\n",
        "  model.compile(optimizer=tf.optimizers.Adam(), loss=tf.losses.binary_crossentropy, metrics=['accuracy'])\n",
        "\n",
        "  return model"
      ],
      "metadata": {
        "id": "CDHb5NPwxCk4"
      },
      "execution_count": 31,
      "outputs": []
    },
    {
      "cell_type": "markdown",
      "source": [
        "## Cross Validation"
      ],
      "metadata": {
        "id": "enqG9Xg70bVA"
      }
    },
    {
      "cell_type": "code",
      "source": [
        "from sklearn.model_selection import StratifiedKFold\n",
        "from sklearn.metrics import accuracy_score\n",
        "\n",
        "kf = StratifiedKFold(n_splits=5, shuffle=True)"
      ],
      "metadata": {
        "id": "p3jmoqLd0aT2"
      },
      "execution_count": 32,
      "outputs": []
    },
    {
      "cell_type": "code",
      "source": [
        "acc_total =[]\n",
        "for train_index, validation_index in kf.split(x,y):\n",
        "  x_train = x[train_index]\n",
        "  y_train = y[train_index]\n",
        "\n",
        "  x_validation = x[validation_index]\n",
        "  y_validation = y[validation_index]\n",
        "\n",
        "  model = create_sequential_nn()\n",
        "  hist = model.fit(x_train, y_train, epochs=20, batch_size=64, validation_data=(x_validation, y_validation), verbose=2)\n",
        "\n",
        "  y_pred = model.predict(x_validation)\n",
        "  y_pred = (y_pred > 0.5).astype(\"int32\")\n",
        "\n",
        "  acc = accuracy_score(y_validation, y_pred)\n",
        "  acc_total.append(acc)"
      ],
      "metadata": {
        "colab": {
          "base_uri": "https://localhost:8080/"
        },
        "id": "HXcwxhtP3CN2",
        "outputId": "8f065354-b42e-444b-e400-5256133768e7"
      },
      "execution_count": 33,
      "outputs": [
        {
          "output_type": "stream",
          "name": "stdout",
          "text": [
            "Epoch 1/20\n",
            "13/13 - 1s - loss: 0.7127 - accuracy: 0.5125 - val_loss: 0.5691 - val_accuracy: 0.7000 - 1s/epoch - 81ms/step\n",
            "Epoch 2/20\n",
            "13/13 - 0s - loss: 0.5302 - accuracy: 0.7563 - val_loss: 0.4204 - val_accuracy: 0.8800 - 104ms/epoch - 8ms/step\n",
            "Epoch 3/20\n",
            "13/13 - 0s - loss: 0.4297 - accuracy: 0.8737 - val_loss: 0.3424 - val_accuracy: 0.9250 - 84ms/epoch - 6ms/step\n",
            "Epoch 4/20\n",
            "13/13 - 0s - loss: 0.3707 - accuracy: 0.8913 - val_loss: 0.2971 - val_accuracy: 0.9350 - 92ms/epoch - 7ms/step\n",
            "Epoch 5/20\n",
            "13/13 - 0s - loss: 0.3326 - accuracy: 0.9038 - val_loss: 0.2667 - val_accuracy: 0.9350 - 89ms/epoch - 7ms/step\n",
            "Epoch 6/20\n",
            "13/13 - 0s - loss: 0.3043 - accuracy: 0.9125 - val_loss: 0.2451 - val_accuracy: 0.9450 - 86ms/epoch - 7ms/step\n",
            "Epoch 7/20\n",
            "13/13 - 0s - loss: 0.2825 - accuracy: 0.9187 - val_loss: 0.2293 - val_accuracy: 0.9450 - 89ms/epoch - 7ms/step\n",
            "Epoch 8/20\n",
            "13/13 - 0s - loss: 0.2651 - accuracy: 0.9212 - val_loss: 0.2150 - val_accuracy: 0.9500 - 64ms/epoch - 5ms/step\n",
            "Epoch 9/20\n",
            "13/13 - 0s - loss: 0.2503 - accuracy: 0.9250 - val_loss: 0.2052 - val_accuracy: 0.9500 - 100ms/epoch - 8ms/step\n",
            "Epoch 10/20\n",
            "13/13 - 0s - loss: 0.2380 - accuracy: 0.9287 - val_loss: 0.1959 - val_accuracy: 0.9550 - 86ms/epoch - 7ms/step\n",
            "Epoch 11/20\n",
            "13/13 - 0s - loss: 0.2277 - accuracy: 0.9325 - val_loss: 0.1872 - val_accuracy: 0.9550 - 61ms/epoch - 5ms/step\n",
            "Epoch 12/20\n",
            "13/13 - 0s - loss: 0.2187 - accuracy: 0.9362 - val_loss: 0.1820 - val_accuracy: 0.9600 - 81ms/epoch - 6ms/step\n",
            "Epoch 13/20\n",
            "13/13 - 0s - loss: 0.2105 - accuracy: 0.9362 - val_loss: 0.1765 - val_accuracy: 0.9600 - 77ms/epoch - 6ms/step\n",
            "Epoch 14/20\n",
            "13/13 - 0s - loss: 0.2043 - accuracy: 0.9400 - val_loss: 0.1700 - val_accuracy: 0.9650 - 63ms/epoch - 5ms/step\n",
            "Epoch 15/20\n",
            "13/13 - 0s - loss: 0.1979 - accuracy: 0.9438 - val_loss: 0.1670 - val_accuracy: 0.9650 - 100ms/epoch - 8ms/step\n",
            "Epoch 16/20\n",
            "13/13 - 0s - loss: 0.1925 - accuracy: 0.9425 - val_loss: 0.1631 - val_accuracy: 0.9650 - 84ms/epoch - 6ms/step\n",
            "Epoch 17/20\n",
            "13/13 - 0s - loss: 0.1879 - accuracy: 0.9463 - val_loss: 0.1612 - val_accuracy: 0.9700 - 90ms/epoch - 7ms/step\n",
            "Epoch 18/20\n",
            "13/13 - 0s - loss: 0.1837 - accuracy: 0.9463 - val_loss: 0.1590 - val_accuracy: 0.9650 - 71ms/epoch - 5ms/step\n",
            "Epoch 19/20\n",
            "13/13 - 0s - loss: 0.1796 - accuracy: 0.9488 - val_loss: 0.1548 - val_accuracy: 0.9700 - 65ms/epoch - 5ms/step\n",
            "Epoch 20/20\n",
            "13/13 - 0s - loss: 0.1759 - accuracy: 0.9488 - val_loss: 0.1549 - val_accuracy: 0.9700 - 78ms/epoch - 6ms/step\n",
            "7/7 [==============================] - 0s 3ms/step\n",
            "Epoch 1/20\n",
            "13/13 - 1s - loss: 0.6948 - accuracy: 0.5838 - val_loss: 0.6334 - val_accuracy: 0.6850 - 1s/epoch - 79ms/step\n",
            "Epoch 2/20\n",
            "13/13 - 0s - loss: 0.5508 - accuracy: 0.7437 - val_loss: 0.5201 - val_accuracy: 0.8100 - 64ms/epoch - 5ms/step\n",
            "Epoch 3/20\n",
            "13/13 - 0s - loss: 0.4546 - accuracy: 0.8462 - val_loss: 0.4457 - val_accuracy: 0.8750 - 61ms/epoch - 5ms/step\n",
            "Epoch 4/20\n",
            "13/13 - 0s - loss: 0.3895 - accuracy: 0.8800 - val_loss: 0.3906 - val_accuracy: 0.9000 - 78ms/epoch - 6ms/step\n",
            "Epoch 5/20\n",
            "13/13 - 0s - loss: 0.3448 - accuracy: 0.8950 - val_loss: 0.3491 - val_accuracy: 0.9000 - 80ms/epoch - 6ms/step\n",
            "Epoch 6/20\n",
            "13/13 - 0s - loss: 0.3104 - accuracy: 0.9050 - val_loss: 0.3201 - val_accuracy: 0.9000 - 76ms/epoch - 6ms/step\n",
            "Epoch 7/20\n",
            "13/13 - 0s - loss: 0.2846 - accuracy: 0.9187 - val_loss: 0.2979 - val_accuracy: 0.9150 - 73ms/epoch - 6ms/step\n",
            "Epoch 8/20\n",
            "13/13 - 0s - loss: 0.2638 - accuracy: 0.9250 - val_loss: 0.2798 - val_accuracy: 0.9150 - 72ms/epoch - 6ms/step\n",
            "Epoch 9/20\n",
            "13/13 - 0s - loss: 0.2473 - accuracy: 0.9287 - val_loss: 0.2662 - val_accuracy: 0.9150 - 71ms/epoch - 5ms/step\n",
            "Epoch 10/20\n",
            "13/13 - 0s - loss: 0.2336 - accuracy: 0.9312 - val_loss: 0.2545 - val_accuracy: 0.9150 - 74ms/epoch - 6ms/step\n",
            "Epoch 11/20\n",
            "13/13 - 0s - loss: 0.2223 - accuracy: 0.9312 - val_loss: 0.2469 - val_accuracy: 0.9150 - 92ms/epoch - 7ms/step\n",
            "Epoch 12/20\n",
            "13/13 - 0s - loss: 0.2116 - accuracy: 0.9350 - val_loss: 0.2387 - val_accuracy: 0.9200 - 71ms/epoch - 5ms/step\n",
            "Epoch 13/20\n",
            "13/13 - 0s - loss: 0.2028 - accuracy: 0.9388 - val_loss: 0.2328 - val_accuracy: 0.9250 - 89ms/epoch - 7ms/step\n",
            "Epoch 14/20\n",
            "13/13 - 0s - loss: 0.1958 - accuracy: 0.9413 - val_loss: 0.2272 - val_accuracy: 0.9350 - 103ms/epoch - 8ms/step\n",
            "Epoch 15/20\n",
            "13/13 - 0s - loss: 0.1887 - accuracy: 0.9413 - val_loss: 0.2243 - val_accuracy: 0.9350 - 90ms/epoch - 7ms/step\n",
            "Epoch 16/20\n",
            "13/13 - 0s - loss: 0.1828 - accuracy: 0.9438 - val_loss: 0.2191 - val_accuracy: 0.9400 - 118ms/epoch - 9ms/step\n",
            "Epoch 17/20\n",
            "13/13 - 0s - loss: 0.1763 - accuracy: 0.9438 - val_loss: 0.2174 - val_accuracy: 0.9400 - 99ms/epoch - 8ms/step\n",
            "Epoch 18/20\n",
            "13/13 - 0s - loss: 0.1714 - accuracy: 0.9500 - val_loss: 0.2140 - val_accuracy: 0.9400 - 99ms/epoch - 8ms/step\n",
            "Epoch 19/20\n",
            "13/13 - 0s - loss: 0.1666 - accuracy: 0.9513 - val_loss: 0.2120 - val_accuracy: 0.9400 - 89ms/epoch - 7ms/step\n",
            "Epoch 20/20\n",
            "13/13 - 0s - loss: 0.1625 - accuracy: 0.9513 - val_loss: 0.2097 - val_accuracy: 0.9400 - 105ms/epoch - 8ms/step\n",
            "7/7 [==============================] - 0s 3ms/step\n",
            "Epoch 1/20\n",
            "13/13 - 2s - loss: 1.1040 - accuracy: 0.4575 - val_loss: 0.9390 - val_accuracy: 0.4700 - 2s/epoch - 124ms/step\n",
            "Epoch 2/20\n",
            "13/13 - 0s - loss: 0.8074 - accuracy: 0.5138 - val_loss: 0.6866 - val_accuracy: 0.5500 - 102ms/epoch - 8ms/step\n",
            "Epoch 3/20\n",
            "13/13 - 0s - loss: 0.5973 - accuracy: 0.6587 - val_loss: 0.5283 - val_accuracy: 0.7300 - 107ms/epoch - 8ms/step\n",
            "Epoch 4/20\n",
            "13/13 - 0s - loss: 0.4736 - accuracy: 0.7937 - val_loss: 0.4327 - val_accuracy: 0.8450 - 79ms/epoch - 6ms/step\n",
            "Epoch 5/20\n",
            "13/13 - 0s - loss: 0.3956 - accuracy: 0.8637 - val_loss: 0.3735 - val_accuracy: 0.8900 - 72ms/epoch - 6ms/step\n",
            "Epoch 6/20\n",
            "13/13 - 0s - loss: 0.3463 - accuracy: 0.8875 - val_loss: 0.3334 - val_accuracy: 0.9050 - 68ms/epoch - 5ms/step\n",
            "Epoch 7/20\n",
            "13/13 - 0s - loss: 0.3118 - accuracy: 0.9087 - val_loss: 0.3047 - val_accuracy: 0.9150 - 82ms/epoch - 6ms/step\n",
            "Epoch 8/20\n",
            "13/13 - 0s - loss: 0.2858 - accuracy: 0.9175 - val_loss: 0.2819 - val_accuracy: 0.9250 - 76ms/epoch - 6ms/step\n",
            "Epoch 9/20\n",
            "13/13 - 0s - loss: 0.2657 - accuracy: 0.9262 - val_loss: 0.2644 - val_accuracy: 0.9250 - 77ms/epoch - 6ms/step\n",
            "Epoch 10/20\n",
            "13/13 - 0s - loss: 0.2494 - accuracy: 0.9325 - val_loss: 0.2506 - val_accuracy: 0.9250 - 95ms/epoch - 7ms/step\n",
            "Epoch 11/20\n",
            "13/13 - 0s - loss: 0.2365 - accuracy: 0.9350 - val_loss: 0.2377 - val_accuracy: 0.9250 - 75ms/epoch - 6ms/step\n",
            "Epoch 12/20\n",
            "13/13 - 0s - loss: 0.2254 - accuracy: 0.9362 - val_loss: 0.2285 - val_accuracy: 0.9250 - 88ms/epoch - 7ms/step\n",
            "Epoch 13/20\n",
            "13/13 - 0s - loss: 0.2159 - accuracy: 0.9388 - val_loss: 0.2197 - val_accuracy: 0.9300 - 107ms/epoch - 8ms/step\n",
            "Epoch 14/20\n",
            "13/13 - 0s - loss: 0.2081 - accuracy: 0.9450 - val_loss: 0.2130 - val_accuracy: 0.9300 - 97ms/epoch - 7ms/step\n",
            "Epoch 15/20\n",
            "13/13 - 0s - loss: 0.2011 - accuracy: 0.9488 - val_loss: 0.2062 - val_accuracy: 0.9300 - 81ms/epoch - 6ms/step\n",
            "Epoch 16/20\n",
            "13/13 - 0s - loss: 0.1955 - accuracy: 0.9500 - val_loss: 0.2001 - val_accuracy: 0.9350 - 84ms/epoch - 6ms/step\n",
            "Epoch 17/20\n",
            "13/13 - 0s - loss: 0.1903 - accuracy: 0.9513 - val_loss: 0.1957 - val_accuracy: 0.9350 - 62ms/epoch - 5ms/step\n",
            "Epoch 18/20\n",
            "13/13 - 0s - loss: 0.1857 - accuracy: 0.9525 - val_loss: 0.1914 - val_accuracy: 0.9350 - 79ms/epoch - 6ms/step\n",
            "Epoch 19/20\n",
            "13/13 - 0s - loss: 0.1815 - accuracy: 0.9525 - val_loss: 0.1863 - val_accuracy: 0.9250 - 73ms/epoch - 6ms/step\n",
            "Epoch 20/20\n",
            "13/13 - 0s - loss: 0.1777 - accuracy: 0.9538 - val_loss: 0.1840 - val_accuracy: 0.9250 - 71ms/epoch - 5ms/step\n",
            "7/7 [==============================] - 0s 3ms/step\n",
            "Epoch 1/20\n",
            "13/13 - 1s - loss: 0.7806 - accuracy: 0.5038 - val_loss: 0.6743 - val_accuracy: 0.5950 - 994ms/epoch - 76ms/step\n",
            "Epoch 2/20\n",
            "13/13 - 0s - loss: 0.5788 - accuracy: 0.6862 - val_loss: 0.5328 - val_accuracy: 0.7550 - 63ms/epoch - 5ms/step\n",
            "Epoch 3/20\n",
            "13/13 - 0s - loss: 0.4569 - accuracy: 0.8388 - val_loss: 0.4459 - val_accuracy: 0.8250 - 56ms/epoch - 4ms/step\n",
            "Epoch 4/20\n",
            "13/13 - 0s - loss: 0.3799 - accuracy: 0.8863 - val_loss: 0.3897 - val_accuracy: 0.8700 - 61ms/epoch - 5ms/step\n",
            "Epoch 5/20\n",
            "13/13 - 0s - loss: 0.3296 - accuracy: 0.9062 - val_loss: 0.3526 - val_accuracy: 0.8900 - 57ms/epoch - 4ms/step\n",
            "Epoch 6/20\n",
            "13/13 - 0s - loss: 0.2953 - accuracy: 0.9187 - val_loss: 0.3250 - val_accuracy: 0.8950 - 77ms/epoch - 6ms/step\n",
            "Epoch 7/20\n",
            "13/13 - 0s - loss: 0.2701 - accuracy: 0.9275 - val_loss: 0.3041 - val_accuracy: 0.9000 - 84ms/epoch - 6ms/step\n",
            "Epoch 8/20\n",
            "13/13 - 0s - loss: 0.2504 - accuracy: 0.9337 - val_loss: 0.2887 - val_accuracy: 0.9100 - 96ms/epoch - 7ms/step\n",
            "Epoch 9/20\n",
            "13/13 - 0s - loss: 0.2346 - accuracy: 0.9388 - val_loss: 0.2772 - val_accuracy: 0.9200 - 96ms/epoch - 7ms/step\n",
            "Epoch 10/20\n",
            "13/13 - 0s - loss: 0.2218 - accuracy: 0.9400 - val_loss: 0.2682 - val_accuracy: 0.9250 - 89ms/epoch - 7ms/step\n",
            "Epoch 11/20\n",
            "13/13 - 0s - loss: 0.2113 - accuracy: 0.9413 - val_loss: 0.2590 - val_accuracy: 0.9250 - 68ms/epoch - 5ms/step\n",
            "Epoch 12/20\n",
            "13/13 - 0s - loss: 0.2025 - accuracy: 0.9463 - val_loss: 0.2532 - val_accuracy: 0.9250 - 64ms/epoch - 5ms/step\n",
            "Epoch 13/20\n",
            "13/13 - 0s - loss: 0.1942 - accuracy: 0.9463 - val_loss: 0.2470 - val_accuracy: 0.9300 - 70ms/epoch - 5ms/step\n",
            "Epoch 14/20\n",
            "13/13 - 0s - loss: 0.1876 - accuracy: 0.9463 - val_loss: 0.2425 - val_accuracy: 0.9300 - 81ms/epoch - 6ms/step\n",
            "Epoch 15/20\n",
            "13/13 - 0s - loss: 0.1819 - accuracy: 0.9463 - val_loss: 0.2392 - val_accuracy: 0.9250 - 67ms/epoch - 5ms/step\n",
            "Epoch 16/20\n",
            "13/13 - 0s - loss: 0.1765 - accuracy: 0.9475 - val_loss: 0.2344 - val_accuracy: 0.9250 - 70ms/epoch - 5ms/step\n",
            "Epoch 17/20\n",
            "13/13 - 0s - loss: 0.1716 - accuracy: 0.9463 - val_loss: 0.2309 - val_accuracy: 0.9250 - 80ms/epoch - 6ms/step\n",
            "Epoch 18/20\n",
            "13/13 - 0s - loss: 0.1675 - accuracy: 0.9475 - val_loss: 0.2274 - val_accuracy: 0.9250 - 80ms/epoch - 6ms/step\n",
            "Epoch 19/20\n",
            "13/13 - 0s - loss: 0.1638 - accuracy: 0.9488 - val_loss: 0.2246 - val_accuracy: 0.9300 - 83ms/epoch - 6ms/step\n",
            "Epoch 20/20\n",
            "13/13 - 0s - loss: 0.1600 - accuracy: 0.9488 - val_loss: 0.2228 - val_accuracy: 0.9300 - 97ms/epoch - 7ms/step\n",
            "7/7 [==============================] - 0s 3ms/step\n",
            "Epoch 1/20\n",
            "13/13 - 1s - loss: 0.5903 - accuracy: 0.7188 - val_loss: 0.4934 - val_accuracy: 0.7850 - 1s/epoch - 80ms/step\n",
            "Epoch 2/20\n",
            "13/13 - 0s - loss: 0.4373 - accuracy: 0.8325 - val_loss: 0.3918 - val_accuracy: 0.8500 - 73ms/epoch - 6ms/step\n",
            "Epoch 3/20\n",
            "13/13 - 0s - loss: 0.3588 - accuracy: 0.8788 - val_loss: 0.3359 - val_accuracy: 0.8750 - 73ms/epoch - 6ms/step\n",
            "Epoch 4/20\n",
            "13/13 - 0s - loss: 0.3115 - accuracy: 0.8963 - val_loss: 0.3001 - val_accuracy: 0.8850 - 85ms/epoch - 7ms/step\n",
            "Epoch 5/20\n",
            "13/13 - 0s - loss: 0.2808 - accuracy: 0.9075 - val_loss: 0.2734 - val_accuracy: 0.9000 - 72ms/epoch - 6ms/step\n",
            "Epoch 6/20\n",
            "13/13 - 0s - loss: 0.2590 - accuracy: 0.9212 - val_loss: 0.2530 - val_accuracy: 0.9150 - 88ms/epoch - 7ms/step\n",
            "Epoch 7/20\n",
            "13/13 - 0s - loss: 0.2417 - accuracy: 0.9237 - val_loss: 0.2355 - val_accuracy: 0.9150 - 89ms/epoch - 7ms/step\n",
            "Epoch 8/20\n",
            "13/13 - 0s - loss: 0.2287 - accuracy: 0.9325 - val_loss: 0.2225 - val_accuracy: 0.9250 - 84ms/epoch - 6ms/step\n",
            "Epoch 9/20\n",
            "13/13 - 0s - loss: 0.2183 - accuracy: 0.9325 - val_loss: 0.2126 - val_accuracy: 0.9250 - 100ms/epoch - 8ms/step\n",
            "Epoch 10/20\n",
            "13/13 - 0s - loss: 0.2093 - accuracy: 0.9362 - val_loss: 0.2034 - val_accuracy: 0.9250 - 83ms/epoch - 6ms/step\n",
            "Epoch 11/20\n",
            "13/13 - 0s - loss: 0.2020 - accuracy: 0.9375 - val_loss: 0.1956 - val_accuracy: 0.9300 - 81ms/epoch - 6ms/step\n",
            "Epoch 12/20\n",
            "13/13 - 0s - loss: 0.1958 - accuracy: 0.9413 - val_loss: 0.1885 - val_accuracy: 0.9400 - 71ms/epoch - 5ms/step\n",
            "Epoch 13/20\n",
            "13/13 - 0s - loss: 0.1905 - accuracy: 0.9413 - val_loss: 0.1827 - val_accuracy: 0.9400 - 71ms/epoch - 5ms/step\n",
            "Epoch 14/20\n",
            "13/13 - 0s - loss: 0.1855 - accuracy: 0.9413 - val_loss: 0.1782 - val_accuracy: 0.9450 - 74ms/epoch - 6ms/step\n",
            "Epoch 15/20\n",
            "13/13 - 0s - loss: 0.1816 - accuracy: 0.9438 - val_loss: 0.1736 - val_accuracy: 0.9500 - 63ms/epoch - 5ms/step\n",
            "Epoch 16/20\n",
            "13/13 - 0s - loss: 0.1775 - accuracy: 0.9438 - val_loss: 0.1688 - val_accuracy: 0.9500 - 76ms/epoch - 6ms/step\n",
            "Epoch 17/20\n",
            "13/13 - 0s - loss: 0.1741 - accuracy: 0.9438 - val_loss: 0.1640 - val_accuracy: 0.9550 - 75ms/epoch - 6ms/step\n",
            "Epoch 18/20\n",
            "13/13 - 0s - loss: 0.1710 - accuracy: 0.9450 - val_loss: 0.1603 - val_accuracy: 0.9550 - 72ms/epoch - 6ms/step\n",
            "Epoch 19/20\n",
            "13/13 - 0s - loss: 0.1689 - accuracy: 0.9450 - val_loss: 0.1569 - val_accuracy: 0.9550 - 59ms/epoch - 5ms/step\n",
            "Epoch 20/20\n",
            "13/13 - 0s - loss: 0.1660 - accuracy: 0.9463 - val_loss: 0.1549 - val_accuracy: 0.9550 - 76ms/epoch - 6ms/step\n",
            "7/7 [==============================] - 0s 4ms/step\n"
          ]
        }
      ]
    },
    {
      "cell_type": "code",
      "source": [
        "acc_total"
      ],
      "metadata": {
        "colab": {
          "base_uri": "https://localhost:8080/"
        },
        "id": "X1q1zTEa7xvc",
        "outputId": "5a147061-3e99-4e80-d76b-21d45bf5ac5f"
      },
      "execution_count": 34,
      "outputs": [
        {
          "output_type": "execute_result",
          "data": {
            "text/plain": [
              "[0.97, 0.94, 0.925, 0.93, 0.955]"
            ]
          },
          "metadata": {},
          "execution_count": 34
        }
      ]
    },
    {
      "cell_type": "code",
      "source": [
        "import numpy as np\n",
        "np.mean(acc_total)"
      ],
      "metadata": {
        "colab": {
          "base_uri": "https://localhost:8080/"
        },
        "id": "7kE_N_ss8dOU",
        "outputId": "fb18aa8b-8b82-47a2-fade-c69ee86acbbc"
      },
      "execution_count": 35,
      "outputs": [
        {
          "output_type": "execute_result",
          "data": {
            "text/plain": [
              "0.944"
            ]
          },
          "metadata": {},
          "execution_count": 35
        }
      ]
    }
  ]
}